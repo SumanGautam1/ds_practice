{
 "cells": [
  {
   "cell_type": "markdown",
   "id": "bc2f9949-654b-4a4d-858c-dccfc7829e9f",
   "metadata": {
    "jp-MarkdownHeadingCollapsed": true
   },
   "source": [
    "### 1.Create a list of your favorite movies and print it. Then, append a new movie to the list and print the updated list."
   ]
  },
  {
   "cell_type": "code",
   "execution_count": 1,
   "id": "5ac9fded-ed20-47c5-929d-77f654c6dc25",
   "metadata": {},
   "outputs": [
    {
     "data": {
      "text/plain": [
       "['Avengers', 'Shawshanks Redemption', 'Interstellars']"
      ]
     },
     "execution_count": 1,
     "metadata": {},
     "output_type": "execute_result"
    }
   ],
   "source": [
    "fav_movies = ['Avengers','Shawshanks Redemption','Interstellars']\n",
    "fav_movies"
   ]
  },
  {
   "cell_type": "code",
   "execution_count": 2,
   "id": "3bab893b-2c68-4d4b-a138-5528653c5b22",
   "metadata": {},
   "outputs": [
    {
     "data": {
      "text/plain": [
       "['Avengers',\n",
       " 'Shawshanks Redemption',\n",
       " 'Interstellars',\n",
       " 'Purna Bahadur ko Sarangi']"
      ]
     },
     "execution_count": 2,
     "metadata": {},
     "output_type": "execute_result"
    }
   ],
   "source": [
    "fav_movies.append('Purna Bahadur ko Sarangi')\n",
    "fav_movies"
   ]
  },
  {
   "cell_type": "markdown",
   "id": "686cb328-bf14-4642-800e-9f60b3b5cbda",
   "metadata": {
    "jp-MarkdownHeadingCollapsed": true
   },
   "source": [
    "### 2. Create a list of integers from 1 to 10 and print it. Calculate the sum of all the numbers in the list and print the result."
   ]
  },
  {
   "cell_type": "code",
   "execution_count": 3,
   "id": "bf0fc5a6-8da6-4f58-8c0c-65403ca8661f",
   "metadata": {},
   "outputs": [
    {
     "data": {
      "text/plain": [
       "[1, 2, 3, 4, 5, 6, 7, 8, 9, 10]"
      ]
     },
     "execution_count": 3,
     "metadata": {},
     "output_type": "execute_result"
    }
   ],
   "source": [
    "integer_list = list(range(1,11))\n",
    "integer_list"
   ]
  },
  {
   "cell_type": "code",
   "execution_count": 4,
   "id": "68ad7c47-7d05-4e7e-bb6e-ad09685371c1",
   "metadata": {},
   "outputs": [
    {
     "data": {
      "text/plain": [
       "55"
      ]
     },
     "execution_count": 4,
     "metadata": {},
     "output_type": "execute_result"
    }
   ],
   "source": [
    "sum_of_integer = sum(integer_list)\n",
    "sum_of_integer"
   ]
  },
  {
   "cell_type": "markdown",
   "id": "016c3e39-c35b-4581-afbf-e8ed642e8f47",
   "metadata": {
    "jp-MarkdownHeadingCollapsed": true
   },
   "source": [
    "### 3. Create a list of mixed data types including strings, integers, and floats and print it. Remove the first element from the list and print the modified list."
   ]
  },
  {
   "cell_type": "code",
   "execution_count": 5,
   "id": "a8029f97-6024-4c5a-bf50-b51288069995",
   "metadata": {},
   "outputs": [
    {
     "data": {
      "text/plain": [
       "['suman', 22, 5.8]"
      ]
     },
     "execution_count": 5,
     "metadata": {},
     "output_type": "execute_result"
    }
   ],
   "source": [
    "mixed_list = ['suman',22,5.8]\n",
    "mixed_list"
   ]
  },
  {
   "cell_type": "code",
   "execution_count": 6,
   "id": "f0bab853-0d7a-424e-b60e-838ff5ed90de",
   "metadata": {},
   "outputs": [
    {
     "data": {
      "text/plain": [
       "[22, 5.8]"
      ]
     },
     "execution_count": 6,
     "metadata": {},
     "output_type": "execute_result"
    }
   ],
   "source": [
    "mixed_list.pop(0)\n",
    "mixed_list"
   ]
  },
  {
   "cell_type": "markdown",
   "id": "171d3138-dedf-4228-856a-2ddf2e3f3aa7",
   "metadata": {
    "jp-MarkdownHeadingCollapsed": true
   },
   "source": [
    "### 4. Create a tuple containing the names of the days of the week and print it. Access and print the name of the third day."
   ]
  },
  {
   "cell_type": "code",
   "execution_count": 7,
   "id": "103c265e-94da-4fe5-8f0a-32aa63c3b163",
   "metadata": {},
   "outputs": [
    {
     "data": {
      "text/plain": [
       "('sunday', 'monday', 'tuesday', 'wednesday', 'thursday', 'friday', 'saturday')"
      ]
     },
     "execution_count": 7,
     "metadata": {},
     "output_type": "execute_result"
    }
   ],
   "source": [
    "days_of_week = ('sunday','monday','tuesday','wednesday','thursday','friday','saturday')\n",
    "days_of_week"
   ]
  },
  {
   "cell_type": "code",
   "execution_count": 8,
   "id": "6089037a-fe50-41d4-9882-2a31aaf5234b",
   "metadata": {},
   "outputs": [
    {
     "data": {
      "text/plain": [
       "'tuesday'"
      ]
     },
     "execution_count": 8,
     "metadata": {},
     "output_type": "execute_result"
    }
   ],
   "source": [
    "days_of_week[2]"
   ]
  },
  {
   "cell_type": "markdown",
   "id": "e1787c81-d6ab-4dc8-9341-fc880f01f376",
   "metadata": {
    "jp-MarkdownHeadingCollapsed": true
   },
   "source": [
    "### 5. Create a tuple of your favorite colors and print it. Check if a certain color is present in the tuple and print the result."
   ]
  },
  {
   "cell_type": "code",
   "execution_count": 9,
   "id": "22064ef6-1d23-4856-ac5c-09182f22e31b",
   "metadata": {},
   "outputs": [
    {
     "data": {
      "text/plain": [
       "('blue', 'red', 'black', 'white', 'orange')"
      ]
     },
     "execution_count": 9,
     "metadata": {},
     "output_type": "execute_result"
    }
   ],
   "source": [
    "favorite_colors = ('blue','red','black','white','orange')\n",
    "favorite_colors"
   ]
  },
  {
   "cell_type": "code",
   "execution_count": 10,
   "id": "810df754-2de0-4261-a422-0e885096f8f2",
   "metadata": {},
   "outputs": [
    {
     "data": {
      "text/plain": [
       "True"
      ]
     },
     "execution_count": 10,
     "metadata": {},
     "output_type": "execute_result"
    }
   ],
   "source": [
    "True if 'red' in favorite_colors else False"
   ]
  },
  {
   "cell_type": "markdown",
   "id": "b2568fbe-154f-47fc-a03d-0e91ee70e011",
   "metadata": {
    "jp-MarkdownHeadingCollapsed": true
   },
   "source": [
    "### 6. Create a dictionary representing the information of a book with keys \"title\", \"author\", and \"year\" and print it. Update the year of the book and print the updated dictionary."
   ]
  },
  {
   "cell_type": "code",
   "execution_count": 11,
   "id": "f489d9d8-ccb9-4860-ae7a-457962a21215",
   "metadata": {},
   "outputs": [
    {
     "data": {
      "text/plain": [
       "{'title': 'Harry Potter', 'author': 'JK Rowling', 'year': 2002}"
      ]
     },
     "execution_count": 11,
     "metadata": {},
     "output_type": "execute_result"
    }
   ],
   "source": [
    "book_info = {\n",
    "    'title':'Harry Potter',\n",
    "    'author':'JK Rowling',\n",
    "    'year':2002\n",
    "}\n",
    "book_info"
   ]
  },
  {
   "cell_type": "code",
   "execution_count": 12,
   "id": "1970530a-682a-47ab-ab56-7de1e112d510",
   "metadata": {},
   "outputs": [
    {
     "data": {
      "text/plain": [
       "{'title': 'Harry Potter', 'author': 'JK Rowling', 'year': 2012}"
      ]
     },
     "execution_count": 12,
     "metadata": {},
     "output_type": "execute_result"
    }
   ],
   "source": [
    "book_info['year']=2012\n",
    "book_info"
   ]
  },
  {
   "cell_type": "markdown",
   "id": "5509c231-739e-419e-812c-790ae843489b",
   "metadata": {
    "jp-MarkdownHeadingCollapsed": true
   },
   "source": [
    "### 7. Create a dictionary containing the names of fruits as keys and their corresponding colors as values and print it. Add a new fruit-color pair to the dictionary and print the updated dictionary."
   ]
  },
  {
   "cell_type": "code",
   "execution_count": 13,
   "id": "05be408a-1ff8-4d9c-ae83-5d10343d21b6",
   "metadata": {},
   "outputs": [
    {
     "data": {
      "text/plain": [
       "{'banana': 'yellow', 'orange': 'orange', 'apple': 'red', 'mango': 'green'}"
      ]
     },
     "execution_count": 13,
     "metadata": {},
     "output_type": "execute_result"
    }
   ],
   "source": [
    "fruits = {\n",
    "    'banana':'yellow',\n",
    "    'orange':'orange',\n",
    "    'apple':'red',\n",
    "    'mango':'green'\n",
    "}\n",
    "fruits"
   ]
  },
  {
   "cell_type": "code",
   "execution_count": 14,
   "id": "26bfc29b-a866-4864-b192-006367f28546",
   "metadata": {},
   "outputs": [
    {
     "data": {
      "text/plain": [
       "{'banana': 'yellow',\n",
       " 'orange': 'orange',\n",
       " 'apple': 'red',\n",
       " 'mango': 'green',\n",
       " 'grapes': 'purple'}"
      ]
     },
     "execution_count": 14,
     "metadata": {},
     "output_type": "execute_result"
    }
   ],
   "source": [
    "fruits['grapes']='purple'\n",
    "fruits"
   ]
  },
  {
   "cell_type": "markdown",
   "id": "6b2c55ce-b0a4-498a-b16d-f1a25855ae5a",
   "metadata": {
    "jp-MarkdownHeadingCollapsed": true
   },
   "source": [
    "### 8. Create a dictionary representing the population of different cities with keys as city names and values as population numbers and print it. Remove a city from the dictionary and print the modified dictionary."
   ]
  },
  {
   "cell_type": "code",
   "execution_count": 15,
   "id": "d596779b-2208-450c-91f3-5b8c59918960",
   "metadata": {},
   "outputs": [
    {
     "data": {
      "text/plain": [
       "{'ktm': 123456, 'pokhara': 43210, 'dharan': 43256}"
      ]
     },
     "execution_count": 15,
     "metadata": {},
     "output_type": "execute_result"
    }
   ],
   "source": [
    "city_population = {\n",
    "    'ktm':123456,\n",
    "    'pokhara':43210,\n",
    "    'dharan':43256\n",
    "}\n",
    "city_population"
   ]
  },
  {
   "cell_type": "code",
   "execution_count": 16,
   "id": "58b7e985-745d-479d-bf70-f6b916818310",
   "metadata": {},
   "outputs": [
    {
     "data": {
      "text/plain": [
       "{'ktm': 123456, 'dharan': 43256}"
      ]
     },
     "execution_count": 16,
     "metadata": {},
     "output_type": "execute_result"
    }
   ],
   "source": [
    "city_population.pop('pokhara')\n",
    "city_population"
   ]
  },
  {
   "cell_type": "code",
   "execution_count": null,
   "id": "cb42e9d5-6d81-4808-ae5d-edddc6140397",
   "metadata": {},
   "outputs": [],
   "source": []
  }
 ],
 "metadata": {
  "kernelspec": {
   "display_name": "Python 3",
   "language": "python",
   "name": "python3"
  },
  "language_info": {
   "codemirror_mode": {
    "name": "ipython",
    "version": 3
   },
   "file_extension": ".py",
   "mimetype": "text/x-python",
   "name": "python",
   "nbconvert_exporter": "python",
   "pygments_lexer": "ipython3",
   "version": "3.12.6"
  }
 },
 "nbformat": 4,
 "nbformat_minor": 5
}
